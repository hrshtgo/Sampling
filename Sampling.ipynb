{
  "nbformat": 4,
  "nbformat_minor": 0,
  "metadata": {
    "colab": {
      "provenance": []
    },
    "kernelspec": {
      "name": "python3",
      "display_name": "Python 3"
    },
    "language_info": {
      "name": "python"
    }
  },
  "cells": [
    {
      "cell_type": "markdown",
      "source": [
        "Importing modules for sampling"
      ],
      "metadata": {
        "id": "nV_CVAmg_9AL"
      }
    },
    {
      "cell_type": "code",
      "source": [
        "import pandas as pd\n",
        "import numpy as np\n",
        "from scipy.stats import norm\n",
        "from sklearn.ensemble import RandomForestClassifier,GradientBoostingClassifier,AdaBoostClassifier\n",
        "from sklearn.tree import DecisionTreeClassifier\n",
        "from sklearn.neighbors import KNeighborsClassifier\n",
        "from sklearn.model_selection import train_test_split\n",
        "from sklearn.metrics import accuracy_score\n",
        "from sklearn.cluster import AgglomerativeClustering\n",
        "from imblearn.over_sampling import RandomOverSampler"
      ],
      "metadata": {
        "id": "hT-RuIFKABKH"
      },
      "execution_count": 50,
      "outputs": []
    },
    {
      "cell_type": "markdown",
      "source": [
        "Converting the data-set into balanced class data-set"
      ],
      "metadata": {
        "id": "gl6lGcYR_GMd"
      }
    },
    {
      "cell_type": "code",
      "source": [
        "data=pd.read_csv('/content/Creditcard_data.csv')\n",
        "x,y=RandomOverSampler(random_state=42).fit_resample(data.iloc[:,:-1],data.iloc[:,-1])\n",
        "data=pd.concat([x,y],axis=1)"
      ],
      "metadata": {
        "id": "O_Vh1hxl_Fzz"
      },
      "execution_count": 51,
      "outputs": []
    },
    {
      "cell_type": "markdown",
      "source": [
        "Creating five samples using different techniques"
      ],
      "metadata": {
        "id": "Qs6e2Zyh_QOJ"
      }
    },
    {
      "cell_type": "code",
      "source": [
        "c=0.9\n",
        "p=np.sum(data.iloc[:,-1])/len(data.iloc[:,-1])\n",
        "E=1-c\n",
        "Z=norm.ppf(1-E/2)\n",
        "n=int(np.ceil(Z**2*p*(1-p)/(E**2)))\n",
        "Random=data.sample(n=n)\n",
        "indices=np.arange(0,len(data),int(len(data)/n))\n",
        "Systematic=data.iloc[indices]\n",
        "Convenience=pd.concat([data[data['Class']==0].sample(int(n/2)),data[data['Class']==1].sample(int(n/2))]) \n",
        "S=data['Class'].nunique()\n",
        "n=int(np.ceil(Z**2*p*(1-p)/((E/S)**2)))\n",
        "Stratified=data.groupby('Class').apply(lambda x: x.sample(n=int(n/S),replace=True)).reset_index(drop=True)\n",
        "clustering=AgglomerativeClustering().fit(data.drop('Class', axis=1))\n",
        "labels=clustering.labels_\n",
        "cluster_sizes={}\n",
        "for label in set(labels):\n",
        "    cluster_sizes[label]=sum(labels == label)\n",
        "C=sum(cluster_sizes.values())/len(cluster_sizes)\n",
        "c=0.07\n",
        "E=1-c\n",
        "Z=norm.ppf(1-E/2)\n",
        "n3=int(np.ceil(Z**2*p*(1-p)/((E/C)**2)))\n",
        "Cluster=data.sample(n3,replace=False)\n",
        "samples=[Random,Systematic,Convenience,Stratified,Cluster]"
      ],
      "metadata": {
        "id": "CtHDy1Hd_JuI"
      },
      "execution_count": 52,
      "outputs": []
    },
    {
      "cell_type": "markdown",
      "source": [
        "Applying five different ML models on each sample"
      ],
      "metadata": {
        "id": "x7Hv4OYQ_Ym1"
      }
    },
    {
      "cell_type": "code",
      "source": [
        "classifiers=[RandomForestClassifier(),DecisionTreeClassifier(),GradientBoostingClassifier(),AdaBoostClassifier(),KNeighborsClassifier()]\n",
        "results=pd.DataFrame(index=[str(clf) for clf in classifiers],columns=[sample_name for sample_name, sample in zip(['Random','Systematic','Convenience','Stratified','Cluster'],samples)])\n",
        "for i,sample in enumerate(samples):\n",
        "    sample_name=['Random','Systematic','Convenience','Stratified','Cluster'][i]\n",
        "    x_train,x_test,y_train,y_test=train_test_split(sample.iloc[:,:-1],sample.iloc[:,-1])\n",
        "    for clf in classifiers:\n",
        "        clf.fit(x_train,y_train)\n",
        "        accuracy = accuracy_score(y_test,clf.predict(x_test))\n",
        "        results.loc[str(clf),sample_name]=accuracy\n",
        "results=results.astype('float64')\n",
        "print(results)"
      ],
      "metadata": {
        "colab": {
          "base_uri": "https://localhost:8080/"
        },
        "id": "eHblfHNw_ZEA",
        "outputId": "fc5d4a43-0d64-44c1-e3ce-d988d06ede6b"
      },
      "execution_count": 53,
      "outputs": [
        {
          "output_type": "stream",
          "name": "stdout",
          "text": [
            "                                Random  Systematic  Convenience  Stratified  \\\n",
            "RandomForestClassifier()      0.882353    0.944444     0.941176    1.000000   \n",
            "DecisionTreeClassifier()      0.705882    0.888889     0.941176    0.926471   \n",
            "GradientBoostingClassifier()  0.823529    0.888889     0.941176    1.000000   \n",
            "AdaBoostClassifier()          0.823529    0.888889     0.941176    0.955882   \n",
            "KNeighborsClassifier()        0.823529    0.555556     0.823529    0.955882   \n",
            "\n",
            "                               Cluster  \n",
            "RandomForestClassifier()      1.000000  \n",
            "DecisionTreeClassifier()      0.993846  \n",
            "GradientBoostingClassifier()  0.996923  \n",
            "AdaBoostClassifier()          1.000000  \n",
            "KNeighborsClassifier()        0.975385  \n"
          ]
        }
      ]
    },
    {
      "cell_type": "markdown",
      "source": [
        "Determining which sampling technique gives higher accuracy on which model"
      ],
      "metadata": {
        "id": "-I4um_JI_iI3"
      }
    },
    {
      "cell_type": "code",
      "source": [
        "for clf in classifiers:\n",
        "    max_value=results.loc[str(clf)].max()\n",
        "    max_indices=np.where(results.loc[str(clf)]==max_value)[0]\n",
        "    if len(max_indices)==1:\n",
        "        print(results.loc[str(clf)].idxmax(),'sampling technique gives higher accuracy on',str(clf))\n",
        "    else:\n",
        "        print(', '.join(results.columns[max_indices]),'sampling techniques give higher accuracy on ',str(clf))"
      ],
      "metadata": {
        "colab": {
          "base_uri": "https://localhost:8080/"
        },
        "id": "FOJWeEyE_leA",
        "outputId": "f1552f5a-91bb-420c-b442-10135c5130e3"
      },
      "execution_count": 54,
      "outputs": [
        {
          "output_type": "stream",
          "name": "stdout",
          "text": [
            "Stratified, Cluster sampling techniques give higher accuracy on  RandomForestClassifier()\n",
            "Cluster sampling technique gives higher accuracy on DecisionTreeClassifier()\n",
            "Stratified sampling technique gives higher accuracy on GradientBoostingClassifier()\n",
            "Cluster sampling technique gives higher accuracy on AdaBoostClassifier()\n",
            "Cluster sampling technique gives higher accuracy on KNeighborsClassifier()\n"
          ]
        }
      ]
    },
    {
      "cell_type": "markdown",
      "source": [
        "Calculating Topsis score to rank models"
      ],
      "metadata": {
        "id": "px3gSiYC_tbk"
      }
    },
    {
      "cell_type": "code",
      "source": [
        "df=results.copy(deep=False)\n",
        "weight=[1,1,1,1,1]\n",
        "impact=['+','+','+','+','+']\n",
        "c=len(df.axes[1])\n",
        "for j in range(1,c):\n",
        "    t=0\n",
        "    for i in range(len(df)):\n",
        "        t+=df.iloc[i,j]**2\n",
        "    t**=0.5\n",
        "    for i in range(len(df)):\n",
        "        df.iloc[i,j]=(df.iloc[i,j]/t)*weight[j-1]\n",
        "best=df.max().values[1:]\n",
        "worst=df.min().values[1:]\n",
        "for i in range(0,c-1):\n",
        "    if impact[i]=='-':\n",
        "        t=best[i]\n",
        "        best[i]=worst[i]\n",
        "        worst[i]=t\n",
        "top=np.zeros(len(df))\n",
        "for i in range(len(df)):\n",
        "    t1=0\n",
        "    t2=0\n",
        "    for j in range(1,c):\n",
        "        t1+=(df.iloc[i,j]-best[j-1])**2\n",
        "        t2+=(df.iloc[i,j]-worst[j-1])**2\n",
        "    top[i]=t2**0.5/(t2**0.5+t1**0.5)\n",
        "df['Topsis Score']=top\n",
        "df['Rank']=df['Topsis Score'].rank(method='max',ascending=False)\n",
        "df.drop(df.columns[[0,1,2,3,4]],axis=1,inplace=True)\n",
        "print(df)"
      ],
      "metadata": {
        "colab": {
          "base_uri": "https://localhost:8080/"
        },
        "id": "UCGnByWR_xWG",
        "outputId": "f86a13b3-01f1-4422-d5c6-620089a90843"
      },
      "execution_count": 55,
      "outputs": [
        {
          "output_type": "stream",
          "name": "stdout",
          "text": [
            "                              Topsis Score  Rank\n",
            "RandomForestClassifier()          1.000000   1.0\n",
            "DecisionTreeClassifier()          0.804861   4.0\n",
            "GradientBoostingClassifier()      0.865129   2.0\n",
            "AdaBoostClassifier()              0.838902   3.0\n",
            "KNeighborsClassifier()            0.059475   5.0\n"
          ]
        }
      ]
    }
  ]
}